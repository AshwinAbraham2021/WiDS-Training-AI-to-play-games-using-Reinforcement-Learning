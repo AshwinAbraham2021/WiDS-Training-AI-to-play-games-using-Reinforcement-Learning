{
 "cells": [
  {
   "cell_type": "code",
   "execution_count": 1,
   "id": "2f5059b9",
   "metadata": {},
   "outputs": [],
   "source": [
    "import numpy as np\n",
    "import matplotlib.pyplot as plt\n",
    "import tensorflow as tf\n",
    "import sklearn"
   ]
  },
  {
   "cell_type": "code",
   "execution_count": 2,
   "id": "ccc52d3b",
   "metadata": {},
   "outputs": [],
   "source": [
    "(x_train, y_train), (x_test, y_test) = tf.keras.datasets.mnist.load_data()\n",
    "x_train_r = x_train.reshape(x_train.shape[0], x_train.shape[1]*x_train.shape[2])\n",
    "x_test_r = x_test.reshape(x_test.shape[0], x_test.shape[1]*x_test.shape[2])"
   ]
  },
  {
   "cell_type": "code",
   "execution_count": 3,
   "id": "70762430",
   "metadata": {},
   "outputs": [
    {
     "data": {
      "text/plain": [
       "array([[0, 0, 0, ..., 0, 0, 0],\n",
       "       [0, 0, 0, ..., 0, 0, 0],\n",
       "       [0, 0, 0, ..., 0, 0, 0],\n",
       "       ...,\n",
       "       [0, 0, 0, ..., 0, 0, 0],\n",
       "       [0, 0, 0, ..., 0, 0, 0],\n",
       "       [0, 0, 0, ..., 0, 0, 0]], dtype=uint8)"
      ]
     },
     "execution_count": 3,
     "metadata": {},
     "output_type": "execute_result"
    }
   ],
   "source": [
    "x_train_r"
   ]
  },
  {
   "cell_type": "code",
   "execution_count": 4,
   "id": "65a27b55",
   "metadata": {},
   "outputs": [],
   "source": [
    "from sklearn.linear_model import LogisticRegression\n",
    "from sklearn.pipeline import make_pipeline\n",
    "from sklearn.preprocessing import StandardScaler\n",
    "from sklearn.linear_model import SGDRegressor"
   ]
  },
  {
   "cell_type": "code",
   "execution_count": 5,
   "id": "094fff98",
   "metadata": {},
   "outputs": [
    {
     "name": "stderr",
     "output_type": "stream",
     "text": [
      "C:\\Users\\USER\\anaconda3\\lib\\site-packages\\sklearn\\linear_model\\_logistic.py:814: ConvergenceWarning: lbfgs failed to converge (status=1):\n",
      "STOP: TOTAL NO. of ITERATIONS REACHED LIMIT.\n",
      "\n",
      "Increase the number of iterations (max_iter) or scale the data as shown in:\n",
      "    https://scikit-learn.org/stable/modules/preprocessing.html\n",
      "Please also refer to the documentation for alternative solver options:\n",
      "    https://scikit-learn.org/stable/modules/linear_model.html#logistic-regression\n",
      "  n_iter_i = _check_optimize_result(\n"
     ]
    },
    {
     "name": "stdout",
     "output_type": "stream",
     "text": [
      "Accuracy: 92.46%\n"
     ]
    }
   ],
   "source": [
    "clf = make_pipeline(StandardScaler(), LogisticRegression())\n",
    "clf.fit(x_train_r, y_train)\n",
    "from sklearn.metrics import accuracy_score\n",
    "print(f'Accuracy: {accuracy_score(y_test, [clf.predict(x.reshape(1, -1))[0] for x in x_test_r])*100}%')"
   ]
  },
  {
   "cell_type": "code",
   "execution_count": 6,
   "id": "4c967b88",
   "metadata": {},
   "outputs": [
    {
     "name": "stdout",
     "output_type": "stream",
     "text": [
      "Predicted: 4\n",
      "Actual: 4\n"
     ]
    },
    {
     "data": {
      "image/png": "[encoded data removed]",
      "text/plain": [
       "<Figure size 432x288 with 1 Axes>"
      ]
     },
     "metadata": {
      "needs_background": "light"
     },
     "output_type": "display_data"
    }
   ],
   "source": [
    "i = np.random.randint(0, x_test_r.shape[0])\n",
    "print(f'Predicted: {clf.predict(x_test_r[i].reshape(1, -1))[0]}')\n",
    "print(f'Actual: {y_test[i]}')\n",
    "plt.imshow(x_test[i]);"
   ]
  },
  {
   "cell_type": "code",
   "execution_count": 7,
   "id": "b63a99e0",
   "metadata": {},
   "outputs": [
    {
     "name": "stderr",
     "output_type": "stream",
     "text": [
      "C:\\Users\\USER\\anaconda3\\lib\\site-packages\\sklearn\\linear_model\\_logistic.py:814: ConvergenceWarning: lbfgs failed to converge (status=1):\n",
      "STOP: TOTAL NO. of ITERATIONS REACHED LIMIT.\n",
      "\n",
      "Increase the number of iterations (max_iter) or scale the data as shown in:\n",
      "    https://scikit-learn.org/stable/modules/preprocessing.html\n",
      "Please also refer to the documentation for alternative solver options:\n",
      "    https://scikit-learn.org/stable/modules/linear_model.html#logistic-regression\n",
      "  n_iter_i = _check_optimize_result(\n"
     ]
    },
    {
     "data": {
      "text/plain": [
       "Pipeline(steps=[('standardscaler', StandardScaler()),\n",
       "                ('logisticregression',\n",
       "                 LogisticRegression(multi_class='multinomial'))])"
      ]
     },
     "execution_count": 7,
     "metadata": {},
     "output_type": "execute_result"
    }
   ],
   "source": [
    "lgr1 = LogisticRegression(multi_class = 'multinomial', solver = 'lbfgs')\n",
    "softmax = make_pipeline(StandardScaler(), lgr1)\n",
    "softmax.fit(x_train_r, y_train)\n"
   ]
  },
  {
   "cell_type": "code",
   "execution_count": 8,
   "id": "f377ae25",
   "metadata": {},
   "outputs": [
    {
     "name": "stdout",
     "output_type": "stream",
     "text": [
      "Accuracy: 92.46%\n"
     ]
    }
   ],
   "source": [
    "from sklearn.metrics import accuracy_score\n",
    "print(f'Accuracy: {accuracy_score(y_test, [softmax.predict(x.reshape(1, -1))[0] for x in x_test_r])*100}%')"
   ]
  },
  {
   "cell_type": "code",
   "execution_count": 9,
   "id": "439f8bac",
   "metadata": {},
   "outputs": [
    {
     "data": {
      "image/png": "[encoded data removed]",
      "text/plain": [
       "<Figure size 720x360 with 5 Axes>"
      ]
     },
     "metadata": {
      "needs_background": "light"
     },
     "output_type": "display_data"
    }
   ],
   "source": [
    "fig, axes = plt.subplots(1, 5, figsize = (10,5))\n",
    "for img, ax in zip(x_test[:5], axes):\n",
    "    predicted = softmax.predict(img.reshape(1, -1))[0]\n",
    "    ax.set_title(predicted)\n",
    "    ax.imshow(img.reshape((28,28)))\n",
    "    ax.axis('off')"
   ]
  },
  {
   "cell_type": "code",
   "execution_count": 10,
   "id": "05f567f4",
   "metadata": {},
   "outputs": [],
   "source": [
    "from sklearn.discriminant_analysis import LinearDiscriminantAnalysis"
   ]
  },
  {
   "cell_type": "code",
   "execution_count": 11,
   "id": "5fd738e3",
   "metadata": {},
   "outputs": [
    {
     "data": {
      "text/plain": [
       "array([[-0.90459877, -0.63847802],\n",
       "       [-2.89955639, -3.3132971 ],\n",
       "       [ 1.96972762,  0.06783832],\n",
       "       ...,\n",
       "       [-0.03491826, -0.76497676],\n",
       "       [-1.31674031, -1.72338222],\n",
       "       [-1.35364085, -0.84840293]])"
      ]
     },
     "execution_count": 11,
     "metadata": {},
     "output_type": "execute_result"
    }
   ],
   "source": [
    "gaa = LinearDiscriminantAnalysis(n_components = 2)\n",
    "gaa.fit_transform(x_train_r, y_train)"
   ]
  },
  {
   "cell_type": "code",
   "execution_count": 13,
   "id": "fcb3a1e1",
   "metadata": {},
   "outputs": [
    {
     "name": "stdout",
     "output_type": "stream",
     "text": [
      "Accuracy: 87.3%\n"
     ]
    }
   ],
   "source": [
    "from sklearn.metrics import accuracy_score\n",
    "print(f'Accuracy: {accuracy_score(y_test, [gaa.predict(x.reshape(1, -1))[0] for x in x_test_r])*100}%')"
   ]
  },
  {
   "cell_type": "code",
   "execution_count": 14,
   "id": "fd6b657f",
   "metadata": {},
   "outputs": [
    {
     "name": "stdout",
     "output_type": "stream",
     "text": [
      "Predicted: 1\n",
      "Actual: 1\n"
     ]
    },
    {
     "data": {
      "image/png": "[encoded data removed]",
      "text/plain": [
       "<Figure size 432x288 with 1 Axes>"
      ]
     },
     "metadata": {
      "needs_background": "light"
     },
     "output_type": "display_data"
    }
   ],
   "source": [
    "i = np.random.randint(0, x_test_r.shape[0])\n",
    "print(f'Predicted: {gaa.predict(x_test_r[i].reshape(1, -1))[0]}')\n",
    "print(f'Actual: {y_test[i]}')\n",
    "plt.imshow(x_test[i]);"
   ]
  },
  {
   "cell_type": "code",
   "execution_count": 15,
   "id": "3ac68989",
   "metadata": {},
   "outputs": [
    {
     "data": {
      "image/png": "[encoded data removed]",
      "text/plain": [
       "<Figure size 720x360 with 10 Axes>"
      ]
     },
     "metadata": {
      "needs_background": "light"
     },
     "output_type": "display_data"
    }
   ],
   "source": [
    "fig, axes = plt.subplots(1, 10, figsize = (10,5))\n",
    "for img, ax in zip(x_test[:10], axes):\n",
    "    predicted = gaa.predict(img.reshape(1, -1))[0]\n",
    "    ax.set_title(predicted)\n",
    "    ax.imshow(img.reshape((28,28)))\n",
    "    ax.axis('off')"
   ]
  },
  {
   "cell_type": "code",
   "execution_count": 17,
   "id": "b36e0588",
   "metadata": {},
   "outputs": [],
   "source": [
    "from sklearn import svm"
   ]
  },
  {
   "cell_type": "code",
   "execution_count": 18,
   "id": "1b1d3b9c",
   "metadata": {},
   "outputs": [],
   "source": [
    "svc1 = svm.SVC(kernel = 'linear')"
   ]
  },
  {
   "cell_type": "code",
   "execution_count": 19,
   "id": "ee037ea3",
   "metadata": {},
   "outputs": [
    {
     "name": "stdout",
     "output_type": "stream",
     "text": [
      "Accuracy: 92.93%\n"
     ]
    }
   ],
   "source": [
    "model1 = make_pipeline(StandardScaler(), svc1)\n",
    "model1.fit(x_train_r, y_train)\n",
    "print(f'Accuracy: {accuracy_score(y_test, [model1.predict(x.reshape(1, -1))[0] for x in x_test_r])*100}%')"
   ]
  },
  {
   "cell_type": "code",
   "execution_count": 24,
   "id": "4e319987",
   "metadata": {},
   "outputs": [
    {
     "name": "stdout",
     "output_type": "stream",
     "text": [
      "Predicted: 4\n",
      "Actual: 4\n"
     ]
    },
    {
     "data": {
      "image/png": "[encoded data removed]",
      "text/plain": [
       "<Figure size 432x288 with 1 Axes>"
      ]
     },
     "metadata": {
      "needs_background": "light"
     },
     "output_type": "display_data"
    }
   ],
   "source": [
    "i = np.random.randint(0, x_test_r.shape[0])\n",
    "print(f'Predicted: {model1.predict(x_test_r[i].reshape(1, -1))[0]}')\n",
    "print(f'Actual: {y_test[i]}')\n",
    "plt.imshow(x_test[i]);"
   ]
  },
  {
   "cell_type": "code",
   "execution_count": 25,
   "id": "71c6f04b",
   "metadata": {},
   "outputs": [
    {
     "data": {
      "image/png": "[encoded data removed]",
      "text/plain": [
       "<Figure size 720x360 with 10 Axes>"
      ]
     },
     "metadata": {
      "needs_background": "light"
     },
     "output_type": "display_data"
    }
   ],
   "source": [
    "fig, axes = plt.subplots(1, 10, figsize = (10,5))\n",
    "for img, ax in zip(x_test[:10], axes):\n",
    "    predicted = model1.predict(img.reshape(1, -1))[0]\n",
    "    ax.set_title(predicted)\n",
    "    ax.imshow(img.reshape((28,28)))\n",
    "    ax.axis('off')"
   ]
  },
  {
   "cell_type": "code",
   "execution_count": 26,
   "id": "ddf689a6",
   "metadata": {},
   "outputs": [],
   "source": [
    "svc2 = svm.SVC(kernel = 'rbf')"
   ]
  },
  {
   "cell_type": "code",
   "execution_count": 23,
   "id": "e5213231",
   "metadata": {},
   "outputs": [
    {
     "name": "stdout",
     "output_type": "stream",
     "text": [
      "Accuracy: 96.6%\n"
     ]
    }
   ],
   "source": [
    "model2 = make_pipeline(StandardScaler(), svc2)\n",
    "model2.fit(x_train_r, y_train)\n",
    "print(f'Accuracy: {accuracy_score(y_test, [model2.predict(x.reshape(1, -1))[0] for x in x_test_r])*100}%')"
   ]
  },
  {
   "cell_type": "code",
   "execution_count": 27,
   "id": "4330ff09",
   "metadata": {},
   "outputs": [
    {
     "name": "stdout",
     "output_type": "stream",
     "text": [
      "Predicted: 7\n",
      "Actual: 7\n"
     ]
    },
    {
     "data": {
      "image/png": "[encoded data removed]",
      "text/plain": [
       "<Figure size 432x288 with 1 Axes>"
      ]
     },
     "metadata": {
      "needs_background": "light"
     },
     "output_type": "display_data"
    }
   ],
   "source": [
    "i = np.random.randint(0, x_test_r.shape[0])\n",
    "print(f'Predicted: {model2.predict(x_test_r[i].reshape(1, -1))[0]}')\n",
    "print(f'Actual: {y_test[i]}')\n",
    "plt.imshow(x_test[i]);"
   ]
  },
  {
   "cell_type": "code",
   "execution_count": 32,
   "id": "dafa7a0d",
   "metadata": {},
   "outputs": [
    {
     "data": {
      "image/png": "[encoded data removed]",
      "text/plain": [
       "<Figure size 720x360 with 9 Axes>"
      ]
     },
     "metadata": {
      "needs_background": "light"
     },
     "output_type": "display_data"
    }
   ],
   "source": [
    "fig, axes = plt.subplots(1, 9, figsize = (10,5))\n",
    "for img, ax in zip(x_test[21:30], axes):\n",
    "    predicted = model1.predict(img.reshape(1, -1))[0]\n",
    "    ax.set_title(predicted)\n",
    "    ax.imshow(img.reshape((28,28)))\n",
    "    ax.axis('off')"
   ]
  },
  {
   "cell_type": "code",
   "execution_count": null,
   "id": "c0f53474",
   "metadata": {},
   "outputs": [],
   "source": []
  }
 ],
 "metadata": {
  "kernelspec": {
   "display_name": "Python 3",
   "language": "python",
   "name": "python3"
  },
  "language_info": {
   "codemirror_mode": {
    "name": "ipython",
    "version": 3
   },
   "file_extension": ".py",
   "mimetype": "text/x-python",
   "name": "python",
   "nbconvert_exporter": "python",
   "pygments_lexer": "ipython3",
   "version": "3.11.1 (tags/v3.11.1:a7a450f, Dec  6 2022, 19:58:39) [MSC v.1934 64 bit (AMD64)]"
  },
  "vscode": {
   "interpreter": {
    "hash": "f850972d8d617613eceb1776d205903619d2b4e46285ff5999298b6ce405ba96"
   }
  }
 },
 "nbformat": 4,
 "nbformat_minor": 5
}
